{
  "nbformat": 4,
  "nbformat_minor": 0,
  "metadata": {
    "colab": {
      "provenance": [],
      "authorship_tag": "ABX9TyNcZkj6RYHrr5vrXGT+PsUK",
      "include_colab_link": true
    },
    "kernelspec": {
      "name": "python3",
      "display_name": "Python 3"
    },
    "language_info": {
      "name": "python"
    }
  },
  "cells": [
    {
      "cell_type": "markdown",
      "metadata": {
        "id": "view-in-github",
        "colab_type": "text"
      },
      "source": [
        "<a href=\"https://colab.research.google.com/github/hiroca/Prog2kakusin/blob/main/work2.ipynb\" target=\"_parent\"><img src=\"https://colab.research.google.com/assets/colab-badge.svg\" alt=\"Open In Colab\"/></a>"
      ]
    },
    {
      "cell_type": "markdown",
      "source": [
        "numpyについて"
      ],
      "metadata": {
        "id": "3P2pzdh7MTtA"
      }
    },
    {
      "cell_type": "code",
      "source": [
        "from os import XATTR_CREATE\n",
        "import numpy as np\n",
        "import IPython\n",
        "import random\n",
        "import itertools\n",
        "Fs = 48000 #サンプリング周波数（固定，48kHz, １秒間におけるデータ数)\n",
        "long=[8.0,4.0,2.0,1.0,0.5,0.25,0.125,0.0625,0.03125,0.015625,0.0078125]\n",
        "TONES = {\n",
        "    'A': 440.0, # ラ\n",
        "    'B': 493.9, # シ\n",
        "    'C': 523.3, # ド\n",
        "    'D': 587.3, # レ\n",
        "    'E': 659.3, # ミ\n",
        "    'F': 698.5, # ファ\n",
        "    'G': 784.0, #ソ\n",
        "    \"X\": 0      #休\n",
        "} # 辞書\n",
        "ts=[]\n",
        "lead=int(input(\"何小節つくりますか？\"))\n",
        "waon=int(input(\"重ね合わせは何層？\"))\n",
        "tones=input(\"音階は？\")\n",
        "a=0\n",
        "y2=[]\n",
        "o = np.linspace(0., 1, int(Fs*1))\n",
        "O = 1 * np.sin(2.0*np.pi*TONES[\"X\"]*o)\n",
        "for W in range(0,lead*4):\n",
        "  y2=np.append(y2,O)\n",
        "for m in range(0,waon):\n",
        "  a=a+1\n",
        "  print(str(a)+\"層目\")\n",
        "  for tns in tones:\n",
        "    ts.append(tns)\n",
        "  y1=[]\n",
        "  C=[]\n",
        "  for c  in itertools.combinations_with_replacement(long, len(ts)):\n",
        "    if sum (c)==4*lead:\n",
        "      C.append(c)\n",
        "  xc=random.choice(C)\n",
        "  XC=list(xc)\n",
        "  for x in range(0,len(ts)):\n",
        "    tone=random.choice(ts)\n",
        "    A =random.uniform(0.2,0.8)\n",
        "    d_t = random.choice(XC)\n",
        "    XC.remove(d_t)\n",
        "    t = np.linspace(0., d_t, int(Fs*d_t))\n",
        "    y = A * np.sin(2.0*np.pi*TONES[str(tone)]*t)\n",
        "    ts.remove(tone)\n",
        "    print(\"音量\"+\"約\"+str(int(A*10)/10),\"音階\"+str(tone),\"音符\"+str(d_t))\n",
        "    y1=np.append(y1,y)\n",
        "  y2=y2+y1\n",
        "IPython.display.Audio(y2, rate=Fs, autoplay=True)"
      ],
      "metadata": {
        "id": "OEXtWO-SkfY-"
      },
      "execution_count": null,
      "outputs": []
    }
  ]
}